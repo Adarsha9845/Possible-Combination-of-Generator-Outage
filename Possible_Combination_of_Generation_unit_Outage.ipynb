{
  "nbformat": 4,
  "nbformat_minor": 0,
  "metadata": {
    "colab": {
      "provenance": [],
      "authorship_tag": "ABX9TyO2NFMbALN5fx/l9azh10ZK",
      "include_colab_link": true
    },
    "kernelspec": {
      "name": "python3",
      "display_name": "Python 3"
    },
    "language_info": {
      "name": "python"
    }
  },
  "cells": [
    {
      "cell_type": "markdown",
      "metadata": {
        "id": "view-in-github",
        "colab_type": "text"
      },
      "source": [
        "<a href=\"https://colab.research.google.com/github/Adarsha9845/Possible-Combination-of-Generator-Outage/blob/main/Possible_Combination_of_Generation_unit_Outage.ipynb\" target=\"_parent\"><img src=\"https://colab.research.google.com/assets/colab-badge.svg\" alt=\"Open In Colab\"/></a>"
      ]
    },
    {
      "cell_type": "code",
      "execution_count": 1,
      "metadata": {
        "id": "fQEk-4NZU0Wd"
      },
      "outputs": [],
      "source": [
        "import numpy as np"
      ]
    },
    {
      "cell_type": "code",
      "source": [
        "capOut1 = np.array([0, 5, 10, 15])\n",
        "capOut2 = np.array([0, 5, 10, 15, 20])\n",
        "prob1 = np.array([0.96, 0.03, 0.01, 0.08])\n",
        "prob2 = np.array([0.94, 0.04, 0.01, 0.01, 0.08])\n",
        "print(capOut1, capOut2, prob1, prob2)"
      ],
      "metadata": {
        "colab": {
          "base_uri": "https://localhost:8080/"
        },
        "id": "XfiwwALUU8WW",
        "outputId": "d2bb7dc8-4d18-4e94-b77b-bcb359877d68"
      },
      "execution_count": 2,
      "outputs": [
        {
          "output_type": "stream",
          "name": "stdout",
          "text": [
            "[ 0  5 10 15] [ 0  5 10 15 20] [0.96 0.03 0.01 0.08] [0.94 0.04 0.01 0.01 0.08]\n"
          ]
        }
      ]
    },
    {
      "cell_type": "code",
      "source": [
        "capOut1.shape"
      ],
      "metadata": {
        "colab": {
          "base_uri": "https://localhost:8080/"
        },
        "id": "5Lir4XMnVill",
        "outputId": "6395ccb0-22b3-4c22-db73-c290967d9476"
      },
      "execution_count": 3,
      "outputs": [
        {
          "output_type": "execute_result",
          "data": {
            "text/plain": [
              "(4,)"
            ]
          },
          "metadata": {},
          "execution_count": 3
        }
      ]
    },
    {
      "cell_type": "code",
      "source": [
        "def sumOperation(array1, array2):\n",
        "  output = []\n",
        "\n",
        "  for num in array2:\n",
        "      temp = []\n",
        "      for element in array1:\n",
        "          temp.append(element + num)\n",
        "      output.append(temp)\n",
        "\n",
        "  # Print the output array\n",
        "  for row in output:\n",
        "      print(\" \".join(map(str, row)))\n",
        "  return output"
      ],
      "metadata": {
        "id": "-qsRdY7fVoTY"
      },
      "execution_count": 4,
      "outputs": []
    },
    {
      "cell_type": "code",
      "source": [
        "def multiplyOperation(array1, array2):\n",
        "  output = []\n",
        "\n",
        "  for num in array2:\n",
        "      temp = []\n",
        "      for element in array1:\n",
        "          temp.append(element * num)\n",
        "      output.append(temp)\n",
        "\n",
        "  # Print the output array\n",
        "  for row in output:\n",
        "      print(\" \".join(map(str, row)))\n",
        "  return output"
      ],
      "metadata": {
        "id": "6yaMDd2DYXhJ"
      },
      "execution_count": 5,
      "outputs": []
    },
    {
      "cell_type": "code",
      "source": [
        "output2 = multiplyOperation(prob1, prob2)\n",
        "print(np.array(output2))"
      ],
      "metadata": {
        "colab": {
          "base_uri": "https://localhost:8080/"
        },
        "id": "ApodBRXXYjWA",
        "outputId": "7ec85fb6-ac80-4643-9108-88cf2817c203"
      },
      "execution_count": 6,
      "outputs": [
        {
          "output_type": "stream",
          "name": "stdout",
          "text": [
            "0.9023999999999999 0.028199999999999996 0.0094 0.0752\n",
            "0.0384 0.0012 0.0004 0.0032\n",
            "0.0096 0.0003 0.0001 0.0008\n",
            "0.0096 0.0003 0.0001 0.0008\n",
            "0.0768 0.0024 0.0008 0.0064\n",
            "[[9.024e-01 2.820e-02 9.400e-03 7.520e-02]\n",
            " [3.840e-02 1.200e-03 4.000e-04 3.200e-03]\n",
            " [9.600e-03 3.000e-04 1.000e-04 8.000e-04]\n",
            " [9.600e-03 3.000e-04 1.000e-04 8.000e-04]\n",
            " [7.680e-02 2.400e-03 8.000e-04 6.400e-03]]\n"
          ]
        }
      ]
    },
    {
      "cell_type": "code",
      "source": [
        "flattenOutput2 = np.array(output2).reshape((-1, 1))\n",
        "print(flattenOutput2)"
      ],
      "metadata": {
        "colab": {
          "base_uri": "https://localhost:8080/"
        },
        "id": "DlM4Fz2EZpWu",
        "outputId": "6f0d8975-2dfe-4c44-fb9e-e5978fc2ca01"
      },
      "execution_count": 10,
      "outputs": [
        {
          "output_type": "stream",
          "name": "stdout",
          "text": [
            "[[9.024e-01]\n",
            " [2.820e-02]\n",
            " [9.400e-03]\n",
            " [7.520e-02]\n",
            " [3.840e-02]\n",
            " [1.200e-03]\n",
            " [4.000e-04]\n",
            " [3.200e-03]\n",
            " [9.600e-03]\n",
            " [3.000e-04]\n",
            " [1.000e-04]\n",
            " [8.000e-04]\n",
            " [9.600e-03]\n",
            " [3.000e-04]\n",
            " [1.000e-04]\n",
            " [8.000e-04]\n",
            " [7.680e-02]\n",
            " [2.400e-03]\n",
            " [8.000e-04]\n",
            " [6.400e-03]]\n"
          ]
        }
      ]
    },
    {
      "cell_type": "code",
      "source": [
        "output1 = sumOperation(capOut1, capOut2)\n",
        "print(output1)"
      ],
      "metadata": {
        "colab": {
          "base_uri": "https://localhost:8080/"
        },
        "id": "qim3Y2k5WhLn",
        "outputId": "6a7eef67-532a-48e9-a424-619871873365"
      },
      "execution_count": 8,
      "outputs": [
        {
          "output_type": "stream",
          "name": "stdout",
          "text": [
            "0 5 10 15\n",
            "5 10 15 20\n",
            "10 15 20 25\n",
            "15 20 25 30\n",
            "20 25 30 35\n",
            "[[0, 5, 10, 15], [5, 10, 15, 20], [10, 15, 20, 25], [15, 20, 25, 30], [20, 25, 30, 35]]\n"
          ]
        }
      ]
    },
    {
      "cell_type": "code",
      "source": [
        "flattenOutput1 = np.array(output1).reshape((-1, 1))\n",
        "print(flattenOutput1)"
      ],
      "metadata": {
        "colab": {
          "base_uri": "https://localhost:8080/"
        },
        "id": "AA4g-GEPaRp8",
        "outputId": "d9aaea24-9b9f-4661-9875-30fef316dc1b"
      },
      "execution_count": 9,
      "outputs": [
        {
          "output_type": "stream",
          "name": "stdout",
          "text": [
            "[[ 0]\n",
            " [ 5]\n",
            " [10]\n",
            " [15]\n",
            " [ 5]\n",
            " [10]\n",
            " [15]\n",
            " [20]\n",
            " [10]\n",
            " [15]\n",
            " [20]\n",
            " [25]\n",
            " [15]\n",
            " [20]\n",
            " [25]\n",
            " [30]\n",
            " [20]\n",
            " [25]\n",
            " [30]\n",
            " [35]]\n"
          ]
        }
      ]
    },
    {
      "cell_type": "code",
      "source": [
        "def findUnique(Array1, Array2):\n",
        "  averaged_dict = {}\n",
        "\n",
        "  # Iterate over Array1 and Array2 simultaneously\n",
        "  for val1, val2 in zip(Array1, Array2):\n",
        "      # Convert val1 to a scalar\n",
        "      val1_scalar = val1.item()\n",
        "      # If val1 already exists in the dictionary, append val2 to its list\n",
        "      if val1_scalar in averaged_dict:\n",
        "          averaged_dict[val1_scalar].append(val2.item())\n",
        "      # If val1 is encountered for the first time, create a new list with val2\n",
        "      else:\n",
        "          averaged_dict[val1_scalar] = [val2.item()]\n",
        "\n",
        "  # Initialize arrays to store averaged values\n",
        "  averaged_values = np.zeros_like(Array1, dtype=float)\n",
        "\n",
        "  # Iterate over the dictionary items to calculate the average for each unique value in Array1\n",
        "  for key, value in averaged_dict.items():\n",
        "      averaged_values[np.where(Array1 == key)] = np.mean(value)\n",
        "\n",
        "  # # Print the output array\n",
        "  # for val1, val2 in zip(Array1, averaged_values):\n",
        "  #     print(f\"{val1.item()}  {val2:.3e}\")\n",
        "  return averaged_values,"
      ],
      "metadata": {
        "id": "pn3BZIogYGEP"
      },
      "execution_count": 19,
      "outputs": []
    },
    {
      "cell_type": "code",
      "source": [
        "uniqueValues = findUnique(flattenOutput1, flattenOutput2)"
      ],
      "metadata": {
        "id": "GFc14dQqcsNQ"
      },
      "execution_count": 20,
      "outputs": []
    },
    {
      "cell_type": "code",
      "source": [
        "# [uniqueValues, flattenOutput1]"
      ],
      "metadata": {
        "colab": {
          "base_uri": "https://localhost:8080/"
        },
        "id": "0EOCjjy1c8rL",
        "outputId": "e90c7c4b-2b68-4fcd-893f-76ea0d7ed8a2"
      },
      "execution_count": 24,
      "outputs": [
        {
          "output_type": "execute_result",
          "data": {
            "text/plain": [
              "[array([[9.02400000e-01],\n",
              "        [3.33000000e-02],\n",
              "        [6.73333333e-03],\n",
              "        [2.13750000e-02],\n",
              "        [3.33000000e-02],\n",
              "        [6.73333333e-03],\n",
              "        [2.13750000e-02],\n",
              "        [2.01000000e-02],\n",
              "        [6.73333333e-03],\n",
              "        [2.13750000e-02],\n",
              "        [2.01000000e-02],\n",
              "        [1.10000000e-03],\n",
              "        [2.13750000e-02],\n",
              "        [2.01000000e-02],\n",
              "        [1.10000000e-03],\n",
              "        [8.00000000e-04],\n",
              "        [2.01000000e-02],\n",
              "        [1.10000000e-03],\n",
              "        [8.00000000e-04],\n",
              "        [6.40000000e-03]]),\n",
              " array([[ 0],\n",
              "        [ 5],\n",
              "        [10],\n",
              "        [15],\n",
              "        [ 5],\n",
              "        [10],\n",
              "        [15],\n",
              "        [20],\n",
              "        [10],\n",
              "        [15],\n",
              "        [20],\n",
              "        [25],\n",
              "        [15],\n",
              "        [20],\n",
              "        [25],\n",
              "        [30],\n",
              "        [20],\n",
              "        [25],\n",
              "        [30],\n",
              "        [35]])]"
            ]
          },
          "metadata": {},
          "execution_count": 24
        }
      ]
    },
    {
      "cell_type": "code",
      "source": [
        "def mergeArray(Array1, Array2):\n",
        "  # Merge the arrays\n",
        "  merged_array = np.concatenate((Array1, Array2), axis=1)\n",
        "\n",
        "  # Eliminate duplicate rows\n",
        "  unique_rows = np.unique(merged_array, axis=0)\n",
        "\n",
        "  print(unique_rows)"
      ],
      "metadata": {
        "id": "myN75pWhe2SI"
      },
      "execution_count": 33,
      "outputs": []
    },
    {
      "cell_type": "code",
      "source": [
        "finalArray = mergeArray(flattenOutput1, uniqueValues)"
      ],
      "metadata": {
        "colab": {
          "base_uri": "https://localhost:8080/"
        },
        "id": "1VxvzVi5gnK8",
        "outputId": "109d434f-4a6b-4ad8-f81b-a4320887bfc8"
      },
      "execution_count": 36,
      "outputs": [
        {
          "output_type": "stream",
          "name": "stdout",
          "text": [
            "[[0.00000000e+00 9.02400000e-01]\n",
            " [5.00000000e+00 3.33000000e-02]\n",
            " [1.00000000e+01 6.73333333e-03]\n",
            " [1.50000000e+01 2.13750000e-02]\n",
            " [2.00000000e+01 2.01000000e-02]\n",
            " [2.50000000e+01 1.10000000e-03]\n",
            " [3.00000000e+01 8.00000000e-04]\n",
            " [3.50000000e+01 6.40000000e-03]]\n"
          ]
        }
      ]
    },
    {
      "cell_type": "code",
      "source": [
        "# a = np.array([[1], [2], [3]])\n",
        "# b = np.array([[2], [3], [4]])\n",
        "# merged_array = np.concatenate((a, b), axis=1)\n",
        "# merged_array"
      ],
      "metadata": {
        "colab": {
          "base_uri": "https://localhost:8080/"
        },
        "id": "ZMYpe4wGgs3o",
        "outputId": "b391120a-5bbf-424f-dfea-ba9209d0aa3b"
      },
      "execution_count": 30,
      "outputs": [
        {
          "output_type": "execute_result",
          "data": {
            "text/plain": [
              "array([[1, 2],\n",
              "       [2, 3],\n",
              "       [3, 4]])"
            ]
          },
          "metadata": {},
          "execution_count": 30
        }
      ]
    },
    {
      "cell_type": "code",
      "source": [],
      "metadata": {
        "id": "aeLXUMvNhGny"
      },
      "execution_count": null,
      "outputs": []
    }
  ]
}