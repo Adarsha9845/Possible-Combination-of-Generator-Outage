{
  "nbformat": 4,
  "nbformat_minor": 0,
  "metadata": {
    "colab": {
      "provenance": [],
      "authorship_tag": "ABX9TyO0W2SRlHCBuOFNfnAB5KGW",
      "include_colab_link": true
    },
    "kernelspec": {
      "name": "python3",
      "display_name": "Python 3"
    },
    "language_info": {
      "name": "python"
    }
  },
  "cells": [
    {
      "cell_type": "markdown",
      "metadata": {
        "id": "view-in-github",
        "colab_type": "text"
      },
      "source": [
        "<a href=\"https://colab.research.google.com/github/Adarsha9845/Possible-Combination-of-Generator-Outage/blob/main/Possible_Combination_of_Generation_unit_Outage.ipynb\" target=\"_parent\"><img src=\"https://colab.research.google.com/assets/colab-badge.svg\" alt=\"Open In Colab\"/></a>"
      ]
    },
    {
      "cell_type": "code",
      "execution_count": 1,
      "metadata": {
        "id": "fQEk-4NZU0Wd"
      },
      "outputs": [],
      "source": [
        "import numpy as np"
      ]
    },
    {
      "cell_type": "code",
      "source": [
        "def sumOperation(array1, array2):\n",
        "  output = []\n",
        "\n",
        "  for num in array2:\n",
        "      temp = []\n",
        "      for element in array1:\n",
        "          temp.append(element + num)\n",
        "      output.append(temp)\n",
        "\n",
        "  # Print the output array\n",
        "  # for row in output:\n",
        "  #     print(\" \".join(map(str, row)))\n",
        "  return output"
      ],
      "metadata": {
        "id": "-qsRdY7fVoTY"
      },
      "execution_count": 2,
      "outputs": []
    },
    {
      "cell_type": "code",
      "source": [
        "def multiplyOperation(array1, array2):\n",
        "  output = []\n",
        "\n",
        "  for num in array2:\n",
        "      temp = []\n",
        "      for element in array1:\n",
        "          temp.append(element * num)\n",
        "      output.append(temp)\n",
        "\n",
        "  # Print the output array\n",
        "  # for row in output:\n",
        "  #     print(\" \".join(map(str, row)))\n",
        "  return output"
      ],
      "metadata": {
        "id": "6yaMDd2DYXhJ"
      },
      "execution_count": 3,
      "outputs": []
    },
    {
      "cell_type": "code",
      "source": [
        "def flatten_out(output1, output2):\n",
        "  flattenOutput2 = np.array(output2).reshape((-1, 1))\n",
        "  flattenOutput1 = np.array(output1).reshape((-1, 1))\n",
        "  return flattenOutput1, flattenOutput2"
      ],
      "metadata": {
        "id": "DlM4Fz2EZpWu"
      },
      "execution_count": 4,
      "outputs": []
    },
    {
      "cell_type": "code",
      "source": [
        "def findUnique(Array1, Array2):\n",
        "  averaged_dict = {}\n",
        "\n",
        "  # Iterate over Array1 and Array2 simultaneously\n",
        "  for val1, val2 in zip(Array1, Array2):\n",
        "      # Convert val1 to a scalar\n",
        "      val1_scalar = val1.item()\n",
        "      # If val1 already exists in the dictionary, append val2 to its list\n",
        "      if val1_scalar in averaged_dict:\n",
        "          averaged_dict[val1_scalar].append(val2.item())\n",
        "      # If val1 is encountered for the first time, create a new list with val2\n",
        "      else:\n",
        "          averaged_dict[val1_scalar] = [val2.item()]\n",
        "\n",
        "  averaged_values = np.zeros_like(Array1, dtype=float)\n",
        "\n",
        "  for key, value in averaged_dict.items():\n",
        "      averaged_values[np.where(Array1 == key)] = np.mean(value)\n",
        "\n",
        "  return averaged_values"
      ],
      "metadata": {
        "id": "pn3BZIogYGEP"
      },
      "execution_count": 5,
      "outputs": []
    },
    {
      "cell_type": "code",
      "source": [
        "def mergeArray(Array1, Array2):\n",
        "  # Merge the arrays\n",
        "  merged_array = np.concatenate((Array1, Array2), axis=1)\n",
        "\n",
        "  # Eliminate duplicate rows\n",
        "  unique_rows = np.unique(merged_array, axis=0)\n",
        "\n",
        "  # print(unique_rows)\n",
        "  return unique_rows"
      ],
      "metadata": {
        "id": "m6i_Uf6riTGB"
      },
      "execution_count": 6,
      "outputs": []
    },
    {
      "cell_type": "code",
      "source": [
        "capOut1 = np.array([0, 5, 10, 15])\n",
        "capOut2 = np.array([0, 5, 10, 15, 20])\n",
        "prob1 = np.array([0.96, 0.03, 0.01, 0.08])\n",
        "prob2 = np.array([0.94, 0.04, 0.01, 0.01, 0.08])\n",
        "output1 = sumOperation(capOut1, capOut2)\n",
        "output2 = multiplyOperation(prob1, prob2)\n",
        "flattenOutput1, flattenOutput2 = flatten_out(output1, output2)\n",
        "uniqueValues = findUnique(flattenOutput1, flattenOutput2)\n",
        "finalArray = mergeArray(flattenOutput1, uniqueValues)"
      ],
      "metadata": {
        "id": "b7vemCWziZkT"
      },
      "execution_count": 7,
      "outputs": []
    },
    {
      "cell_type": "code",
      "source": [
        "print(finalArray)"
      ],
      "metadata": {
        "id": "aeLXUMvNhGny",
        "outputId": "113ae14b-f1e8-4d51-895d-3cb146a5f1d4",
        "colab": {
          "base_uri": "https://localhost:8080/"
        }
      },
      "execution_count": 8,
      "outputs": [
        {
          "output_type": "stream",
          "name": "stdout",
          "text": [
            "[[0.00000000e+00 9.02400000e-01]\n",
            " [5.00000000e+00 3.33000000e-02]\n",
            " [1.00000000e+01 6.73333333e-03]\n",
            " [1.50000000e+01 2.13750000e-02]\n",
            " [2.00000000e+01 2.01000000e-02]\n",
            " [2.50000000e+01 1.10000000e-03]\n",
            " [3.00000000e+01 8.00000000e-04]\n",
            " [3.50000000e+01 6.40000000e-03]]\n"
          ]
        }
      ]
    },
    {
      "cell_type": "code",
      "source": [],
      "metadata": {
        "id": "TdPeLkdbk0Gx"
      },
      "execution_count": null,
      "outputs": []
    }
  ]
}